{
 "cells": [
  {
   "cell_type": "markdown",
   "id": "61c4500c-c9e6-40ce-a487-8a05e788f4f3",
   "metadata": {},
   "source": [
    "## Local eating habits and food data"
   ]
  },
  {
   "cell_type": "code",
   "execution_count": null,
   "id": "e023de27-e2fa-461e-8374-abed8e3c40be",
   "metadata": {},
   "outputs": [],
   "source": [
    "\n"
   ]
  }
 ],
 "metadata": {
  "kernelspec": {
   "display_name": "Python 3 (ipykernel)",
   "language": "python",
   "name": "python3"
  },
  "language_info": {
   "codemirror_mode": {
    "name": "ipython",
    "version": 3
   },
   "file_extension": ".py",
   "mimetype": "text/x-python",
   "name": "python",
   "nbconvert_exporter": "python",
   "pygments_lexer": "ipython3",
   "version": "3.9.7"
  }
 },
 "nbformat": 4,
 "nbformat_minor": 5
}
